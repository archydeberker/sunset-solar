{
 "cells": [
  {
   "cell_type": "markdown",
   "id": "threaded-protection",
   "metadata": {},
   "source": [
    "# Sunset solar\n",
    "\n",
    "We would like to understand how existing supply and demand on the grid changes the marginal value of new solar in the system.\n",
    "\n",
    "This requires us to understand:\n",
    "\n",
    "- The price of electricity at different times of day\n",
    "- The different generation profiles of solar panels at different aspects\n",
    "\n",
    "If the current price doesn't support a different aspect of solar panel, we might add\n",
    "\n",
    "- The carbon intensity of the grid at different times of day and thus\n",
    "- The carbon price that would make West facing solar panels more profitable than South facing ones"
   ]
  },
  {
   "cell_type": "code",
   "execution_count": null,
   "id": "essential-cleanup",
   "metadata": {},
   "outputs": [],
   "source": [
    "import pandas as pd\n",
    "import plotly.express as px\n",
    "import numpy as np\n",
    "from numpy import pi "
   ]
  },
  {
   "cell_type": "markdown",
   "id": "italic-tumor",
   "metadata": {},
   "source": [
    "I think the scale of this data is GBP/MWH"
   ]
  },
  {
   "cell_type": "code",
   "execution_count": null,
   "id": "operating-framework",
   "metadata": {},
   "outputs": [],
   "source": [
    "price_df = pd.read_csv('DA 2019.csv', parse_dates=['settlement_period']).rename({'N2EX_Index__PRICE': 'Day Ahead Price', 'settlement_period': 'Timestamp'}, axis=1)"
   ]
  },
  {
   "cell_type": "code",
   "execution_count": null,
   "id": "european-optimum",
   "metadata": {
    "scrolled": false
   },
   "outputs": [],
   "source": [
    "px.line(price_df, x='Timestamp', y='Day Ahead Price')"
   ]
  },
  {
   "cell_type": "code",
   "execution_count": null,
   "id": "governing-comfort",
   "metadata": {},
   "outputs": [],
   "source": []
  },
  {
   "cell_type": "markdown",
   "id": "herbal-romantic",
   "metadata": {},
   "source": [
    "Remove the outlier"
   ]
  },
  {
   "cell_type": "code",
   "execution_count": null,
   "id": "mineral-spouse",
   "metadata": {},
   "outputs": [],
   "source": [
    "price_df = price_df[price_df['Day Ahead Price'] < 150]"
   ]
  },
  {
   "cell_type": "code",
   "execution_count": null,
   "id": "official-facial",
   "metadata": {},
   "outputs": [],
   "source": [
    "price_df['Hour'] = price_df['Timestamp'].apply(lambda x: x.hour)\n",
    "price_df['Month'] = price_df['Timestamp'].apply(lambda x: x.month)\n",
    "\n",
    "gb = price_df.groupby('Hour').mean()"
   ]
  },
  {
   "cell_type": "code",
   "execution_count": null,
   "id": "spanish-playback",
   "metadata": {},
   "outputs": [],
   "source": [
    "fig = px.area(gb, x=gb.index, y='Day Ahead Price', title='Daily Variation in Energy Prices: The Double Hump')\n",
    "fig.update_layout(yaxis=dict(range=[0, 60]))\n"
   ]
  },
  {
   "cell_type": "code",
   "execution_count": null,
   "id": "living-familiar",
   "metadata": {},
   "outputs": [],
   "source": [
    "gb = price_df.groupby('Month').mean()\n",
    "px.area(gb, x=gb.index, y='Day Ahead Price', title='Monthly Variation in Energy Prices: January is expensive')"
   ]
  },
  {
   "cell_type": "markdown",
   "id": "painful-neighborhood",
   "metadata": {},
   "source": [
    "# Solar irradiance data\n",
    "Data is provided from the [CEDA Archive](http://data.ceda.ac.uk/badc/ukmo-midas-open/data/uk-radiation-obs/dataset-version-202007/avon/00676_filton/qc-version-1) as horizontal irradiance. Luckily Steph previously wrote some code to convert this according to aspect (referred to as Azimuth in solar talk)."
   ]
  },
  {
   "cell_type": "markdown",
   "id": "competent-harvard",
   "metadata": {},
   "source": [
    "We'll use some data from the Bristol area, Filton."
   ]
  },
  {
   "cell_type": "code",
   "execution_count": null,
   "id": "preceding-belle",
   "metadata": {},
   "outputs": [],
   "source": [
    "sun_df = pd.read_csv('midas-open_uk-radiation-obs_dv-202007_avon_00676_filton_qcv-1_2017.csv', header=75, parse_dates=['ob_end_time'])"
   ]
  },
  {
   "cell_type": "code",
   "execution_count": null,
   "id": "widespread-mason",
   "metadata": {},
   "outputs": [],
   "source": [
    "sun_df = sun_df.rename({'ob_end_time': 'Timestamp', 'glbl_irad_amt': 'Value'}, axis=1)"
   ]
  },
  {
   "cell_type": "code",
   "execution_count": null,
   "id": "outstanding-equality",
   "metadata": {},
   "outputs": [],
   "source": [
    "px.line(sun_df, x='Timestamp', y='Value')"
   ]
  },
  {
   "cell_type": "markdown",
   "id": "disturbed-intersection",
   "metadata": {},
   "source": [
    "Looks to me like there are a couple of outliers to be removed. There is a spike on the last day of every month, just before midnight - is this the monthly total or something?"
   ]
  },
  {
   "cell_type": "code",
   "execution_count": null,
   "id": "organizational-trustee",
   "metadata": {},
   "outputs": [],
   "source": [
    "sun_df = sun_df[sun_df['id_type']=='DCNN']\n",
    "px.line(sun_df, x='Timestamp', y='Value')"
   ]
  },
  {
   "cell_type": "markdown",
   "id": "macro-commissioner",
   "metadata": {},
   "source": [
    "Much better :)"
   ]
  },
  {
   "cell_type": "markdown",
   "id": "saved-madness",
   "metadata": {},
   "source": [
    " Data refers to the _previous_ hour. Settlement periods are aligned to the start of the period so we should shift everything by an hour."
   ]
  },
  {
   "cell_type": "code",
   "execution_count": null,
   "id": "meaning-supervisor",
   "metadata": {},
   "outputs": [],
   "source": [
    "sun_df = sun_df.set_index('Timestamp').shift(-1).reset_index()"
   ]
  },
  {
   "cell_type": "code",
   "execution_count": null,
   "id": "bound-associate",
   "metadata": {},
   "outputs": [],
   "source": [
    "sun_df[\"Timestamp\"] = sun_df[\"Timestamp\"].apply(pd.Timestamp)\n",
    "sun_df['Hour']= sun_df['Timestamp'].apply(lambda x: x.hour)\n",
    "sun_df['Month'] = sun_df['Timestamp'].apply(lambda x: x.month)\n",
    "\n",
    "gb = sun_df.groupby('Hour').sum()"
   ]
  },
  {
   "cell_type": "code",
   "execution_count": null,
   "id": "listed-provincial",
   "metadata": {},
   "outputs": [],
   "source": [
    "px.line(gb, x=gb.index, y='Value', title='Total Horizontal Irradiance by Hour')"
   ]
  },
  {
   "cell_type": "code",
   "execution_count": null,
   "id": "hollywood-indianapolis",
   "metadata": {},
   "outputs": [],
   "source": [
    "gb = sun_df.groupby('Month').sum()\n",
    "px.line(gb, x=gb.index, y='Value', title='Total Horizontal Irradiance by Month')"
   ]
  },
  {
   "cell_type": "markdown",
   "id": "controlling-spending",
   "metadata": {},
   "source": [
    "## Sun angle and height\n",
    "In addition to the solar irradiance on the horizontal, we need to know the locaton (height and azimuth) of the sun throughout the year.\n",
    "\n",
    "Luckily Steph already figured this out and we can get the data here: https://susdesign.com/sunposition/\n",
    "\n",
    "I've downloaded it in _clock time_"
   ]
  },
  {
   "cell_type": "code",
   "execution_count": null,
   "id": "otherwise-berlin",
   "metadata": {},
   "outputs": [],
   "source": [
    "sun_position = pd.read_csv('bristol_sun_angles.csv')\n",
    "sun_position.drop(0, axis=0, inplace=True)\n",
    "sun_position.head()"
   ]
  },
  {
   "cell_type": "code",
   "execution_count": null,
   "id": "dedicated-passing",
   "metadata": {},
   "outputs": [],
   "source": [
    "sun_position['Timestamp'] = sun_position.apply(lambda row: pd.Timestamp(f\"{row['date']}/2017 {row['clock time']}\"), axis=1)\n",
    "sun_position.drop(['date', 'clock time'], axis=1, inplace=True)\n",
    "\n",
    "# Nicked from Steph\n",
    "sun_position[['altitude', 'azimuth']] = sun_position[['altitude', 'azimuth']].apply(np.deg2rad)"
   ]
  },
  {
   "cell_type": "code",
   "execution_count": null,
   "id": "stuffed-czech",
   "metadata": {},
   "outputs": [],
   "source": [
    "px.line(sun_position, x='Timestamp', y=['altitude','azimuth'])"
   ]
  },
  {
   "cell_type": "markdown",
   "id": "athletic-premium",
   "metadata": {},
   "source": [
    "## Fold together irradiance and azimuth data"
   ]
  },
  {
   "cell_type": "markdown",
   "id": "varied-gardening",
   "metadata": {},
   "source": [
    "Some functions stolen from Steph"
   ]
  },
  {
   "cell_type": "code",
   "execution_count": null,
   "id": "smooth-latino",
   "metadata": {},
   "outputs": [],
   "source": [
    "# Resample hourly first\n",
    "sun_df = sun_position.set_index('Timestamp').resample('H').mean().join(sun_df.set_index('Timestamp')['Value'])"
   ]
  },
  {
   "cell_type": "code",
   "execution_count": null,
   "id": "atmospheric-burns",
   "metadata": {},
   "outputs": [],
   "source": [
    "px.line(sun_df, x=sun_df.index, y=['Value','azimuth','altitude'])"
   ]
  },
  {
   "cell_type": "markdown",
   "id": "parliamentary-reset",
   "metadata": {},
   "source": [
    "We derive the intensity on a vertical surface at a given azimuth in two steps:\n",
    "\n",
    "1. Turn horiztonal irradiance to vertical irradiance of a plane facing the sun perfectly\n",
    "2. Weight that according to the azimuth"
   ]
  },
  {
   "cell_type": "markdown",
   "id": "offshore-torture",
   "metadata": {},
   "source": [
    "### 1. Irradiance on a vertical and tilted surface"
   ]
  },
  {
   "cell_type": "markdown",
   "id": "blond-vietnamese",
   "metadata": {},
   "source": [
    "Called \"sunflower\" intensity, rather charmingly. This describes the fact that it rotates to face the sun."
   ]
  },
  {
   "cell_type": "markdown",
   "id": "double-telephone",
   "metadata": {},
   "source": [
    "Average UK home has a tilt from 40-50 degrees."
   ]
  },
  {
   "cell_type": "code",
   "execution_count": null,
   "id": "express-little",
   "metadata": {},
   "outputs": [],
   "source": [
    "def horizontal_to_vertical_weighting(altitude, min_alt=np.deg2rad(2)):\n",
    "    weighting = 1 / np.tan(altitude)\n",
    "    return weighting if altitude > min_alt else 0\n",
    "\n",
    "def horizontal_to_inclined(altitude, incline_to_horizontal_deg=45, min_alt=np.deg2rad(2)):\n",
    "    # Steph's version\n",
    "#     weighting = np.sin(altitude + incline_to_horizontal_deg/180)/np.sin(altitude)\n",
    "    \n",
    "    # Corrected\n",
    "    weighting = np.sin(altitude + np.deg2rad(incline_to_horizontal_deg))/np.sin(altitude)\n",
    "    \n",
    "    # Archy version\n",
    "#     weighting = (1 / np.tan(altitude)) / np.cos(np.deg2rad(incline_to_horizontal_deg))\n",
    "    return weighting if altitude > min_alt else 0\n",
    "\n",
    "sun_df['weighting_vertical'] = sun_df['altitude'].apply(horizontal_to_vertical_weighting)\n",
    "sun_df['sunflower_vertical'] = sun_df['weighting_vertical'] * sun_df['Value']\n",
    "\n",
    "sun_df['weighting_tilted'] = sun_df['altitude'].apply(horizontal_to_inclined)\n",
    "sun_df['sunflower_tilted'] = sun_df['weighting_tilted'] * sun_df['Value']"
   ]
  },
  {
   "cell_type": "code",
   "execution_count": null,
   "id": "least-ghana",
   "metadata": {},
   "outputs": [],
   "source": [
    "px.line(sun_df.loc['2017-06-06'], x=sun_df.loc['2017-06-06'].index, y=['weighting_tilted', 'weighting_vertical'],\n",
    "       title='Vertical surfaces get more sun in the morning and evening, but more horizontally tilted ones benefit at midday')"
   ]
  },
  {
   "cell_type": "code",
   "execution_count": null,
   "id": "superior-smell",
   "metadata": {},
   "outputs": [],
   "source": [
    "px.line(sun_df.loc['2017-06-06'], x=sun_df.loc['2017-06-06'].index, y=['sunflower_tilted', 'sunflower_vertical'],\n",
    "       title='Multiplied through by measured intensity shows benefit of having a more horizontal panel')"
   ]
  },
  {
   "cell_type": "markdown",
   "id": "moved-linux",
   "metadata": {},
   "source": [
    "### 2. Irradiance by azimuth"
   ]
  },
  {
   "cell_type": "code",
   "execution_count": null,
   "id": "major-series",
   "metadata": {},
   "outputs": [],
   "source": [
    "# Nicked from Steph\n",
    "orientation_angles = {\n",
    "    'N': (12/16*(2*np.pi), '#d62728'),\n",
    "    'NNE': (13/16*(2*np.pi),'rebeccapurple'),\n",
    "    'NE': (14/16*(2*np.pi),'darkgreen'),\n",
    "    'ENE': (15/16*(2*np.pi), 'black'),\n",
    "    'E': (0*(2*np.pi),'#2ca02c'),\n",
    "    'ESE': (1/16*(2*np.pi),'magenta'),\n",
    "    'SE': (2/16*(2*np.pi),'midnightblue'),\n",
    "    'SSE': (3/16*(2*np.pi),'grey'),\n",
    "    'S': (4/16*(2*np.pi),'#ff7f0e'),\n",
    "    'SSW': (5/16*(2*np.pi),'dodgerblue'),\n",
    "    'SW': (6/16*(2*np.pi),'cyan'),\n",
    "    'WSW': (7/16*(2*np.pi),'darkred'),\n",
    "    'W': (8/16*(2*np.pi),'#1f77b4'),\n",
    "    'WNW': (9/16*(2*np.pi),'crimson'),\n",
    "    'NW': (10/16*(2*np.pi),'lime'),\n",
    "    'NNW': (11/16*(2*np.pi),'red'),\n",
    "    }"
   ]
  },
  {
   "cell_type": "markdown",
   "id": "behavioral-section",
   "metadata": {},
   "source": [
    "For each possible orientation, we need to take angle of incidence of the sun. If the angle is 90 then the sun is \n",
    "directly hitting the surface and we're capturing all of the sunlight (i.e. we have the sunflower intensity). If not, we need to take \n",
    "\n",
    "`sin(x)`\n",
    "\n",
    "where x is the angle of attack"
   ]
  },
  {
   "cell_type": "code",
   "execution_count": null,
   "id": "pleased-fruit",
   "metadata": {},
   "outputs": [],
   "source": [
    "assert orientation_angles['S'][0] == np.pi/2"
   ]
  },
  {
   "cell_type": "code",
   "execution_count": null,
   "id": "behavioral-fossil",
   "metadata": {},
   "outputs": [],
   "source": [
    "def sunflower_to_azimuth(azimuth, plane_orientation):\n",
    "    \"\"\"\n",
    "    Work out the % of sun that falls at a given azimuth\n",
    "    \"\"\"\n",
    "    angle =  plane_orientation - azimuth\n",
    "    weighting = np.sin(angle)\n",
    "    if weighting < 0:\n",
    "        # This corresponds to sun on the other side of the surface\n",
    "        weighting = 0\n",
    "    return weighting"
   ]
  },
  {
   "cell_type": "code",
   "execution_count": null,
   "id": "indian-seattle",
   "metadata": {},
   "outputs": [],
   "source": [
    "sun_df['south weighting'] = sun_df['azimuth'].apply(lambda x: sunflower_to_azimuth(x, orientation_angles['S'][0]))\n",
    "sun_df['west weighting'] = sun_df['azimuth'].apply(lambda x: sunflower_to_azimuth(x, orientation_angles['W'][0]))\n",
    "sun_df['north weighting'] = sun_df['azimuth'].apply(lambda x: sunflower_to_azimuth(x, orientation_angles['N'][0]))\n",
    "sun_df['east weighting'] = sun_df['azimuth'].apply(lambda x: sunflower_to_azimuth(x, orientation_angles['E'][0]))"
   ]
  },
  {
   "cell_type": "markdown",
   "id": "antique-seattle",
   "metadata": {},
   "source": [
    "Verify that this looks as we expect:"
   ]
  },
  {
   "cell_type": "code",
   "execution_count": null,
   "id": "competitive-hampton",
   "metadata": {},
   "outputs": [],
   "source": [
    "px.line(sun_df.loc['2017-08-01'], x=sun_df.loc['2017-08-01'].index, y=['south weighting', 'west weighting'],\n",
    "       title='South facing panels weighted higher at midday, West in the evening')"
   ]
  },
  {
   "cell_type": "markdown",
   "id": "million-saver",
   "metadata": {},
   "source": [
    "## Fold them together\n",
    "Multiply through the vertical weightings by sunflower"
   ]
  },
  {
   "cell_type": "code",
   "execution_count": null,
   "id": "loving-finish",
   "metadata": {},
   "outputs": [],
   "source": [
    "for direction in ['south', 'west', 'north', 'east']:\n",
    "    sun_df[f'{direction} intensity'] = sun_df[f'{direction} weighting'] * sun_df['sunflower_tilted']"
   ]
  },
  {
   "cell_type": "code",
   "execution_count": null,
   "id": "corrected-weekend",
   "metadata": {},
   "outputs": [],
   "source": [
    "px.line(sun_df.loc['2017-08'], x=sun_df.loc['2017-08'].index, y=['south intensity', 'west intensity'])"
   ]
  },
  {
   "cell_type": "code",
   "execution_count": null,
   "id": "renewable-series",
   "metadata": {},
   "outputs": [],
   "source": [
    "sun_df['Hour'] = sun_df.reset_index()['Timestamp'].apply(lambda x: int(x.hour)).values\n",
    "sun_df['Month'] = sun_df.reset_index()['Timestamp'].apply(lambda x: int(x.month)).values"
   ]
  },
  {
   "cell_type": "code",
   "execution_count": null,
   "id": "chinese-agency",
   "metadata": {},
   "outputs": [],
   "source": [
    "gb = sun_df.groupby('Hour').mean().reset_index().sort_values(by='Hour')\n",
    "px.line(gb, x=gb['Hour'], y=['south intensity', 'west intensity'], title='Averaged over the year')"
   ]
  },
  {
   "cell_type": "code",
   "execution_count": null,
   "id": "functional-malawi",
   "metadata": {},
   "outputs": [],
   "source": [
    "gb = sun_df.groupby('Month').mean().reset_index().sort_values(by='Month')\n",
    "px.line(gb, x=gb['Month'], y=['south intensity', 'west intensity'], title='South facing panels have better average monthly performance every month')"
   ]
  },
  {
   "cell_type": "markdown",
   "id": "english-abuse",
   "metadata": {},
   "source": [
    "# Multiply solar profiles by month * hour averages"
   ]
  },
  {
   "cell_type": "code",
   "execution_count": null,
   "id": "relevant-screw",
   "metadata": {},
   "outputs": [],
   "source": [
    "gb = price_df.groupby(['Month', 'Hour']).mean().reset_index()"
   ]
  },
  {
   "cell_type": "code",
   "execution_count": null,
   "id": "administrative-graham",
   "metadata": {},
   "outputs": [],
   "source": [
    "fig = px.bar(gb, y='Day Ahead Price', x='Hour', facet_row='Month', \n",
    "             facet_row_spacing=0.01, height=1000, width=800, \n",
    "             color='Day Ahead Price', color_continuous_scale='BuPu')\n",
    "\n",
    "# hide and lock down axes\n",
    "fig.update_xaxes(visible=False, fixedrange=True)\n",
    "fig.update_yaxes(visible=False, fixedrange=True)\n",
    "# strip down the rest of the plot\n",
    "fig.update_layout(\n",
    "    showlegend=False,\n",
    "    plot_bgcolor=\"white\",\n",
    "    margin=dict(t=10,l=10,b=10,r=10),\n",
    "    coloraxis=None,\n",
    ")\n",
    "\n",
    "\n",
    "\n",
    "# disable the modebar for such a small plot\n",
    "fig.show(config=dict(displayModeBar=False))"
   ]
  },
  {
   "cell_type": "markdown",
   "id": "progressive-device",
   "metadata": {},
   "source": [
    "Perhaps easier to see as a matrix:"
   ]
  },
  {
   "cell_type": "code",
   "execution_count": null,
   "id": "incoming-sentence",
   "metadata": {},
   "outputs": [],
   "source": [
    "px.imshow(gb.pivot_table(values='Day Ahead Price', index=['Month'], columns=['Hour']))"
   ]
  },
  {
   "cell_type": "markdown",
   "id": "excellent-devil",
   "metadata": {},
   "source": [
    "### Join average price data"
   ]
  },
  {
   "cell_type": "code",
   "execution_count": null,
   "id": "sunrise-lawrence",
   "metadata": {},
   "outputs": [],
   "source": [
    "sun_df = sun_df.reset_index().set_index(['Month', 'Hour'])\n",
    "avg_prices = price_df.groupby(['Month', 'Hour']).mean()"
   ]
  },
  {
   "cell_type": "code",
   "execution_count": null,
   "id": "black-steal",
   "metadata": {},
   "outputs": [],
   "source": [
    "df = sun_df.join(avg_prices, how='left').sort_values(by='Timestamp')"
   ]
  },
  {
   "cell_type": "code",
   "execution_count": null,
   "id": "sharing-stationery",
   "metadata": {},
   "outputs": [],
   "source": [
    "df"
   ]
  },
  {
   "cell_type": "code",
   "execution_count": null,
   "id": "small-breach",
   "metadata": {},
   "outputs": [],
   "source": [
    "df['south earnings'] = df['south intensity'] * df['Day Ahead Price']\n",
    "df['west earnings'] = df['west intensity'] * df['Day Ahead Price']"
   ]
  },
  {
   "cell_type": "code",
   "execution_count": null,
   "id": "vulnerable-legislature",
   "metadata": {},
   "outputs": [],
   "source": [
    "px.line(df, x='Timestamp', y=['south earnings', 'west earnings'], title='This does not look good for Western panels')"
   ]
  },
  {
   "cell_type": "code",
   "execution_count": null,
   "id": "ahead-chester",
   "metadata": {},
   "outputs": [],
   "source": [
    "gb = df.groupby('Month').sum()\n",
    "px.bar(gb, x=gb.index, y=['south earnings', 'west earnings'], barmode='group',\n",
    "      title='A 45 degree S panel beats a 45 W panel every month of the year')"
   ]
  },
  {
   "cell_type": "code",
   "execution_count": null,
   "id": "sweet-clause",
   "metadata": {},
   "outputs": [],
   "source": [
    "gb = df.groupby('Hour').sum()\n",
    "px.bar(gb, x=gb.index, y=['south earnings', 'west earnings'], barmode='group',\n",
    "      title='Even though a W panel does get more evening light throughout the year')"
   ]
  },
  {
   "cell_type": "code",
   "execution_count": null,
   "id": "determined-invalid",
   "metadata": {},
   "outputs": [],
   "source": [
    "px.scatter(df, x='Day Ahead Price', y=['south intensity', 'west intensity'])"
   ]
  },
  {
   "cell_type": "markdown",
   "id": "every-shore",
   "metadata": {},
   "source": [
    "# Finding the optimal \n",
    "We'll do a little grid search over orientation and angles"
   ]
  },
  {
   "cell_type": "code",
   "execution_count": null,
   "id": "planned-removal",
   "metadata": {},
   "outputs": [],
   "source": [
    "def calculate_yearly_income(df, orientation, tilt):\n",
    "    \n",
    "    df['tilt_weighting'] = df['altitude'].apply(lambda x: horizontal_to_inclined(x, incline_to_horizontal_deg=tilt))\n",
    "    df['orientation_weighting'] = df['azimuth'].apply(lambda x: sunflower_to_azimuth(x, orientation))\n",
    "    \n",
    "    df['output_intensity'] = df['Value'] * df['tilt_weighting'] * df['orientation_weighting']\n",
    "    df['cash'] = df['output_intensity'] * df['Day Ahead Price']\n",
    "    \n",
    "    return df\n",
    "    "
   ]
  },
  {
   "cell_type": "code",
   "execution_count": null,
   "id": "editorial-tuner",
   "metadata": {},
   "outputs": [],
   "source": [
    "money = {}\n",
    "sun = {}\n",
    "for orientation, (azimuth, _) in orientation_angles.items():\n",
    "    money[orientation] = {}\n",
    "    sun[orientation] = {}\n",
    "    for tilt in range(0, 90, 10):\n",
    "        output = calculate_yearly_income(df, orientation=azimuth, tilt=tilt)\n",
    "        \n",
    "        money[orientation][tilt] =  output[\"cash\"].sum()\n",
    "        sun[orientation][tilt] =  output[\"output_intensity\"].sum()\n",
    "        \n",
    "        print(orientation, tilt)"
   ]
  },
  {
   "cell_type": "code",
   "execution_count": null,
   "id": "satisfactory-angola",
   "metadata": {},
   "outputs": [],
   "source": [
    "cash_df = pd.DataFrame(money)\n",
    "sun_df = pd.DataFrame(sun)"
   ]
  },
  {
   "cell_type": "code",
   "execution_count": null,
   "id": "clear-kentucky",
   "metadata": {},
   "outputs": [],
   "source": [
    "px.imshow(sun_df, title='South facing 50 gets the most sun')"
   ]
  },
  {
   "cell_type": "code",
   "execution_count": null,
   "id": "confident-success",
   "metadata": {},
   "outputs": [],
   "source": [
    "px.imshow(cash_df, title='SSE 60 degrees are the most profitable')"
   ]
  },
  {
   "cell_type": "code",
   "execution_count": null,
   "id": "continent-profit",
   "metadata": {},
   "outputs": [],
   "source": [
    "px.imshow(results_df, title='Steep SW panels are the most profitable')"
   ]
  },
  {
   "cell_type": "markdown",
   "id": "classified-studio",
   "metadata": {},
   "source": [
    "# So this is not a good idea\n",
    "- The loss of energy at other times of day does not justify the increased energy you get in the evening spots\n",
    "- The morning hump is much better served by the South facing panel!"
   ]
  },
  {
   "cell_type": "markdown",
   "id": "breathing-redhead",
   "metadata": {},
   "source": [
    "## What about carbon intensity?\n",
    "The reason the evening prices aren't higher is that the grid become carbon intense with winter peakers. What if we had a carbon price?\n",
    "\n",
    "Data from https://data.nationalgrideso.com/carbon-intensity1/historic-generation-mix"
   ]
  },
  {
   "cell_type": "code",
   "execution_count": null,
   "id": "deluxe-marine",
   "metadata": {},
   "outputs": [],
   "source": [
    "grid_intensity = pd.read_csv('df_fuel_ckan.csv', parse_dates=['DATETIME']).set_index(\"DATETIME\")\n",
    "grid_intensity = grid_intensity.loc['2019']\n",
    "grid_intensity['Hour'] = grid_intensity.reset_index()['DATETIME'].apply(lambda x: pd.Timestamp(x).hour).values\n",
    "grid_intensity['Month'] = grid_intensity.reset_index()['DATETIME'].apply(lambda x: pd.Timestamp(x).month).values\n"
   ]
  },
  {
   "cell_type": "code",
   "execution_count": null,
   "id": "published-forty",
   "metadata": {},
   "outputs": [],
   "source": [
    "px.line(grid_intensity,grid_intensity.index, 'CARBON_INTENSITY')"
   ]
  },
  {
   "cell_type": "code",
   "execution_count": null,
   "id": "mechanical-comparative",
   "metadata": {},
   "outputs": [],
   "source": [
    "gb = grid_intensity.groupby('Hour').mean()\n",
    "px.line(gb, x=gb.index, y='CARBON_INTENSITY', title='CO2 intensity mimics price')"
   ]
  },
  {
   "cell_type": "code",
   "execution_count": null,
   "id": "legal-tragedy",
   "metadata": {},
   "outputs": [],
   "source": [
    "gb = grid_intensity.groupby('Month').mean()\n",
    "px.line(gb, x=gb.index, y='CARBON_INTENSITY', title='CO2 intensity mimics price')"
   ]
  },
  {
   "cell_type": "markdown",
   "id": "approved-giving",
   "metadata": {},
   "source": [
    "Grid intensity is g carbon per kwh. "
   ]
  },
  {
   "cell_type": "markdown",
   "id": "described-decision",
   "metadata": {},
   "source": [
    "This report suggests a price of 75 GBP / tonne in 2030 might be reasonable: https://www.edie.net/news/6/EU-carbon-price-set-to-rise-to-EUR32-by-2030--but-experts-say-EUR81-necessary-to-achieve-net-zero-in-the-UK/\n",
    "        "
   ]
  },
  {
   "cell_type": "code",
   "execution_count": null,
   "id": "hollow-level",
   "metadata": {},
   "outputs": [],
   "source": [
    "price_per_ton_co2 = 75\n",
    "price_per_gram_co2 = price_per_ton_co2/1e6"
   ]
  },
  {
   "cell_type": "code",
   "execution_count": null,
   "id": "elegant-allah",
   "metadata": {},
   "outputs": [],
   "source": [
    "kwh_to_mwh = 1/1e3\n",
    "grid_intensity['Carbon Price GBP/MWh'] = grid_intensity['CARBON_INTENSITY']*price_per_gram_co2 / kwh_to_mwh\n"
   ]
  },
  {
   "cell_type": "markdown",
   "id": "impressed-display",
   "metadata": {},
   "source": [
    "### Merge our grid intensity onto our prices"
   ]
  },
  {
   "cell_type": "code",
   "execution_count": null,
   "id": "incorporated-redhead",
   "metadata": {},
   "outputs": [],
   "source": [
    "carbon_price_df = price_df.set_index('Timestamp').join(grid_intensity[['CARBON_INTENSITY', 'Carbon Price GBP/MWh']])\n",
    "carbon_price_df['Hour'] = carbon_price_df.reset_index()['Timestamp'].apply(lambda x: pd.Timestamp(x).hour).values\n",
    "carbon_price_df['Month'] = carbon_price_df.reset_index()['Timestamp'].apply(lambda x: pd.Timestamp(x).month).values"
   ]
  },
  {
   "cell_type": "code",
   "execution_count": null,
   "id": "miniature-oxide",
   "metadata": {},
   "outputs": [],
   "source": [
    "px.line(carbon_price_df, x=carbon_price_df.index, y=['Day Ahead Price', 'Carbon Price GBP/MWh'],\n",
    "       title='A carbon price would be a substantial portion of cost')"
   ]
  },
  {
   "cell_type": "code",
   "execution_count": null,
   "id": "suspended-perry",
   "metadata": {},
   "outputs": [],
   "source": [
    "gb = carbon_price_df.groupby('Hour').sum()\n",
    "px.bar(gb, x=gb.index, y=['Day Ahead Price', 'Carbon Price GBP/MWh'], barmode='group')"
   ]
  },
  {
   "cell_type": "markdown",
   "id": "popular-catalyst",
   "metadata": {},
   "source": [
    "Hmm the contribution is relatively flat over time, I don't think this going to make a difference!"
   ]
  }
 ],
 "metadata": {
  "kernelspec": {
   "display_name": "Python 3",
   "language": "python",
   "name": "python3"
  },
  "language_info": {
   "codemirror_mode": {
    "name": "ipython",
    "version": 3
   },
   "file_extension": ".py",
   "mimetype": "text/x-python",
   "name": "python",
   "nbconvert_exporter": "python",
   "pygments_lexer": "ipython3",
   "version": "3.8.5"
  }
 },
 "nbformat": 4,
 "nbformat_minor": 5
}
